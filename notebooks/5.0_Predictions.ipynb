{
 "cells": [
  {
   "cell_type": "markdown",
   "id": "c506d9af",
   "metadata": {},
   "source": [
    "### Predictions"
   ]
  },
  {
   "cell_type": "code",
   "execution_count": 9,
   "id": "2a1b5dad",
   "metadata": {},
   "outputs": [],
   "source": [
    "import pandas as pd\n",
    "from sklearn.discriminant_analysis import LinearDiscriminantAnalysis\n",
    "from sklearn.model_selection import train_test_split\n",
    "from sklearn.metrics import recall_score"
   ]
  },
  {
   "cell_type": "markdown",
   "id": "a8381779",
   "metadata": {},
   "source": [
    "#### Load the data"
   ]
  },
  {
   "cell_type": "code",
   "execution_count": 4,
   "id": "25d8820d",
   "metadata": {},
   "outputs": [],
   "source": [
    "df = pd.read_csv('../data/processed/final.csv')\n",
    "X = df.drop(columns='Churn Value')\n",
    "y = df['Churn Value'].values"
   ]
  },
  {
   "cell_type": "code",
   "execution_count": null,
   "id": "797e7576",
   "metadata": {},
   "outputs": [],
   "source": [
    "# Split into training and test, train model"
   ]
  },
  {
   "cell_type": "code",
   "execution_count": 12,
   "id": "9fc42539",
   "metadata": {
    "scrolled": true
   },
   "outputs": [
    {
     "data": {
      "text/plain": [
       "LinearDiscriminantAnalysis()"
      ]
     },
     "execution_count": 12,
     "metadata": {},
     "output_type": "execute_result"
    }
   ],
   "source": [
    "X_train, X_test, y_train, y_test = train_test_split(X, y, test_size=0.2, random_state=42)\n",
    "\n",
    "lda = LinearDiscriminantAnalysis(solver='svd')\n",
    "lda.fit(X_train, y_train)\n"
   ]
  },
  {
   "cell_type": "markdown",
   "id": "2d036cd5",
   "metadata": {},
   "source": [
    "**Predicting single row of test set**"
   ]
  },
  {
   "cell_type": "code",
   "execution_count": 15,
   "id": "08c27b08",
   "metadata": {},
   "outputs": [
    {
     "data": {
      "text/html": [
       "<div>\n",
       "<style scoped>\n",
       "    .dataframe tbody tr th:only-of-type {\n",
       "        vertical-align: middle;\n",
       "    }\n",
       "\n",
       "    .dataframe tbody tr th {\n",
       "        vertical-align: top;\n",
       "    }\n",
       "\n",
       "    .dataframe thead th {\n",
       "        text-align: right;\n",
       "    }\n",
       "</style>\n",
       "<table border=\"1\" class=\"dataframe\">\n",
       "  <thead>\n",
       "    <tr style=\"text-align: right;\">\n",
       "      <th></th>\n",
       "      <th>Tenure Months</th>\n",
       "      <th>Monthly Charges</th>\n",
       "      <th>Churn Score</th>\n",
       "      <th>CLTV</th>\n",
       "      <th>county</th>\n",
       "      <th>Gender_Male</th>\n",
       "      <th>Senior Citizen_Yes</th>\n",
       "      <th>Partner_Yes</th>\n",
       "      <th>Dependents_Yes</th>\n",
       "      <th>Phone Service_Yes</th>\n",
       "      <th>...</th>\n",
       "      <th>Streaming TV_Yes</th>\n",
       "      <th>Streaming Movies_No internet service</th>\n",
       "      <th>Streaming Movies_Yes</th>\n",
       "      <th>Contract_One year</th>\n",
       "      <th>Contract_Two year</th>\n",
       "      <th>Paperless Billing_Yes</th>\n",
       "      <th>Payment Method_Credit card (automatic)</th>\n",
       "      <th>Payment Method_Electronic check</th>\n",
       "      <th>Payment Method_Mailed check</th>\n",
       "      <th>Churn Value</th>\n",
       "    </tr>\n",
       "  </thead>\n",
       "  <tbody>\n",
       "    <tr>\n",
       "      <th>5206</th>\n",
       "      <td>0.416667</td>\n",
       "      <td>0.607463</td>\n",
       "      <td>0.768421</td>\n",
       "      <td>0.144986</td>\n",
       "      <td>18</td>\n",
       "      <td>0</td>\n",
       "      <td>0</td>\n",
       "      <td>0</td>\n",
       "      <td>0</td>\n",
       "      <td>1</td>\n",
       "      <td>...</td>\n",
       "      <td>1</td>\n",
       "      <td>0</td>\n",
       "      <td>1</td>\n",
       "      <td>1</td>\n",
       "      <td>0</td>\n",
       "      <td>1</td>\n",
       "      <td>1</td>\n",
       "      <td>0</td>\n",
       "      <td>0</td>\n",
       "      <td>0</td>\n",
       "    </tr>\n",
       "  </tbody>\n",
       "</table>\n",
       "<p>1 rows × 33 columns</p>\n",
       "</div>"
      ],
      "text/plain": [
       "      Tenure Months  Monthly Charges  Churn Score      CLTV  county  \\\n",
       "5206       0.416667         0.607463     0.768421  0.144986      18   \n",
       "\n",
       "      Gender_Male  Senior Citizen_Yes  Partner_Yes  Dependents_Yes  \\\n",
       "5206            0                   0            0               0   \n",
       "\n",
       "      Phone Service_Yes  ...  Streaming TV_Yes  \\\n",
       "5206                  1  ...                 1   \n",
       "\n",
       "      Streaming Movies_No internet service  Streaming Movies_Yes  \\\n",
       "5206                                     0                     1   \n",
       "\n",
       "      Contract_One year  Contract_Two year  Paperless Billing_Yes  \\\n",
       "5206                  1                  0                      1   \n",
       "\n",
       "      Payment Method_Credit card (automatic)  Payment Method_Electronic check  \\\n",
       "5206                                       1                                0   \n",
       "\n",
       "      Payment Method_Mailed check  Churn Value  \n",
       "5206                            0            0  \n",
       "\n",
       "[1 rows x 33 columns]"
      ]
     },
     "execution_count": 15,
     "metadata": {},
     "output_type": "execute_result"
    }
   ],
   "source": [
    "sample = df.sample(1)\n",
    "sample"
   ]
  },
  {
   "cell_type": "code",
   "execution_count": 16,
   "id": "1ac5a043",
   "metadata": {},
   "outputs": [
    {
     "data": {
      "text/plain": [
       "array([0], dtype=int64)"
      ]
     },
     "execution_count": 16,
     "metadata": {},
     "output_type": "execute_result"
    }
   ],
   "source": [
    "lda.predict(sample.drop(columns='Churn Value'))"
   ]
  },
  {
   "cell_type": "markdown",
   "id": "f42a90cc",
   "metadata": {},
   "source": [
    "**Overall test performance**"
   ]
  },
  {
   "cell_type": "code",
   "execution_count": 11,
   "id": "4db79bc1",
   "metadata": {},
   "outputs": [
    {
     "data": {
      "text/plain": [
       "0.904891304347826"
      ]
     },
     "execution_count": 11,
     "metadata": {},
     "output_type": "execute_result"
    }
   ],
   "source": [
    "lda_score = recall_score(y_test, lda.predict(X_test))\n",
    "lda_score"
   ]
  }
 ],
 "metadata": {
  "kernelspec": {
   "display_name": "Python 3",
   "language": "python",
   "name": "python3"
  },
  "language_info": {
   "codemirror_mode": {
    "name": "ipython",
    "version": 3
   },
   "file_extension": ".py",
   "mimetype": "text/x-python",
   "name": "python",
   "nbconvert_exporter": "python",
   "pygments_lexer": "ipython3",
   "version": "3.7.6"
  }
 },
 "nbformat": 4,
 "nbformat_minor": 5
}
